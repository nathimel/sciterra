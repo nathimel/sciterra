{
 "cells": [
  {
   "attachments": {},
   "cell_type": "markdown",
   "metadata": {},
   "source": [
    "## Setup"
   ]
  },
  {
   "cell_type": "code",
   "execution_count": 1,
   "metadata": {},
   "outputs": [
    {
     "name": "stderr",
     "output_type": "stream",
     "text": [
      "/Users/nathanielimel/miniforge3/envs/sciterra/lib/python3.11/site-packages/tqdm/auto.py:21: TqdmWarning: IProgress not found. Please update jupyter and ipywidgets. See https://ipywidgets.readthedocs.io/en/stable/user_install.html\n",
      "  from .autonotebook import tqdm as notebook_tqdm\n"
     ]
    }
   ],
   "source": [
    "from sciterra.atlas import Atlas\n",
    "from sciterra.cartography import Cartographer\n",
    "from sciterra.librarians.s2librarian import SemanticScholarLibrarian\n",
    "from sciterra.vectorization.scibert import SciBERTVectorizer"
   ]
  },
  {
   "cell_type": "code",
   "execution_count": 2,
   "metadata": {},
   "outputs": [],
   "source": [
    "bibtex_fp = \"data/single_publication.bib\"\n",
    "single_path = \"outputs/atlas_single\"\n",
    "double_path = \"outputs/atlas_double\""
   ]
  },
  {
   "attachments": {},
   "cell_type": "markdown",
   "metadata": {},
   "source": [
    "## Expand"
   ]
  },
  {
   "cell_type": "code",
   "execution_count": 3,
   "metadata": {},
   "outputs": [
    {
     "name": "stderr",
     "output_type": "stream",
     "text": [
      "Some weights of the model checkpoint at allenai/scibert_scivocab_uncased were not used when initializing BertForSequenceClassification: ['cls.predictions.transform.dense.bias', 'cls.predictions.transform.LayerNorm.weight', 'cls.seq_relationship.bias', 'cls.predictions.bias', 'cls.predictions.transform.dense.weight', 'cls.predictions.transform.LayerNorm.bias', 'cls.predictions.decoder.weight', 'cls.predictions.decoder.bias', 'cls.seq_relationship.weight']\n",
      "- This IS expected if you are initializing BertForSequenceClassification from the checkpoint of a model trained on another task or with another architecture (e.g. initializing a BertForSequenceClassification model from a BertForPreTraining model).\n",
      "- This IS NOT expected if you are initializing BertForSequenceClassification from the checkpoint of a model that you expect to be exactly identical (initializing a BertForSequenceClassification model from a BertForSequenceClassification model).\n",
      "Some weights of BertForSequenceClassification were not initialized from the model checkpoint at allenai/scibert_scivocab_uncased and are newly initialized: ['classifier.bias', 'classifier.weight']\n",
      "You should probably TRAIN this model on a down-stream task to be able to use it for predictions and inference.\n"
     ]
    },
    {
     "name": "stdout",
     "output_type": "stream",
     "text": [
      "Using device: cpu.\n",
      "Querying Semantic Scholar for 1 total papers.\n"
     ]
    },
    {
     "name": "stderr",
     "output_type": "stream",
     "text": [
      "progress using call_size=10: 100%|██████████| 1/1 [00:02<00:00,  2.59s/it]\n",
      "100%|██████████| 1/1 [00:00<00:00, 12.35it/s]\n"
     ]
    }
   ],
   "source": [
    "crt = Cartographer(\n",
    "    librarian = SemanticScholarLibrarian(), \n",
    "    vectorizer = SciBERTVectorizer(),\n",
    ")\n",
    "\n",
    "# Construct Atlas\n",
    "# atl = crt.bibtex_to_atlas(bibtex_fp)\n",
    "\n",
    "# pub = list(atl.publications.values())[0]\n",
    "# center = pub.identifier\n",
    "pub, = crt.librarian.get_publications([\"DOI:10.3765/salt.v1i0.5346\"])#urs truly\n",
    "center = pub.identifier\n",
    "atl = Atlas([pub])"
   ]
  },
  {
   "cell_type": "code",
   "execution_count": 4,
   "metadata": {},
   "outputs": [
    {
     "data": {
      "text/plain": [
       "{'46258318d877a145b0b8c9525cb11e7ce5993139': sciterra.publication.Publication:46258318d877a145b0b8c9525cb11e7ce5993139}"
      ]
     },
     "execution_count": 4,
     "metadata": {},
     "output_type": "execute_result"
    }
   ],
   "source": [
    "atl.publications"
   ]
  },
  {
   "cell_type": "code",
   "execution_count": 5,
   "metadata": {},
   "outputs": [],
   "source": [
    "# first expansion\n",
    "# atl_single_exp = Atlas.load(single_path)\n",
    "# atl_single_exp = crt.expand(atl, center=center)\n",
    "# atl_single_exp = crt.project(atl_single_exp)\n",
    "\n",
    "# atl_single_exp.save(single_path)\n",
    "\n",
    "# atl_single_exp_loaded = Atlas.load(single_path)\n",
    "atl_double_exp = Atlas.load(double_path)"
   ]
  },
  {
   "cell_type": "code",
   "execution_count": 6,
   "metadata": {},
   "outputs": [
    {
     "name": "stdout",
     "output_type": "stream",
     "text": [
      "Expansion will include 1000 new publications.\n",
      "Querying Semantic Scholar for 1000 total papers.\n"
     ]
    },
    {
     "name": "stderr",
     "output_type": "stream",
     "text": [
      "progress using call_size=10:  25%|██▌       | 250/1000 [01:52<09:41,  1.29it/s]"
     ]
    },
    {
     "name": "stdout",
     "output_type": "stream",
     "text": [
      "Had to call <function SemanticScholarLibrarian.get_publications.<locals>.get_papers at 0x13e990ae0> 2 times to get a response.\n"
     ]
    },
    {
     "name": "stderr",
     "output_type": "stream",
     "text": [
      "progress using call_size=10: 100%|██████████| 1000/1000 [06:50<00:00,  2.44it/s]\n",
      "  0%|          | 0/1000 [00:00<?, ?it/s]/Users/nathanielimel/uci/projects/sciterra/src/sciterra/librarians/s2librarian.py:215: UserWarning: The length of the citations list (65) is different from citation_count (66)\n",
      "  warnings.warn(\n",
      "/Users/nathanielimel/uci/projects/sciterra/src/sciterra/librarians/s2librarian.py:215: UserWarning: The length of the citations list (350) is different from citation_count (352)\n",
      "  warnings.warn(\n",
      "/Users/nathanielimel/uci/projects/sciterra/src/sciterra/librarians/s2librarian.py:215: UserWarning: The length of the citations list (57) is different from citation_count (58)\n",
      "  warnings.warn(\n",
      "/Users/nathanielimel/uci/projects/sciterra/src/sciterra/librarians/s2librarian.py:215: UserWarning: The length of the citations list (68) is different from citation_count (69)\n",
      "  warnings.warn(\n",
      "/Users/nathanielimel/uci/projects/sciterra/src/sciterra/librarians/s2librarian.py:215: UserWarning: The length of the citations list (262) is different from citation_count (264)\n",
      "  warnings.warn(\n",
      "/Users/nathanielimel/uci/projects/sciterra/src/sciterra/librarians/s2librarian.py:215: UserWarning: The length of the citations list (63) is different from citation_count (64)\n",
      "  warnings.warn(\n",
      "/Users/nathanielimel/uci/projects/sciterra/src/sciterra/librarians/s2librarian.py:215: UserWarning: The length of the citations list (40) is different from citation_count (41)\n",
      "  warnings.warn(\n",
      "/Users/nathanielimel/uci/projects/sciterra/src/sciterra/librarians/s2librarian.py:215: UserWarning: The length of the citations list (227) is different from citation_count (229)\n",
      "  warnings.warn(\n",
      "  0%|          | 2/1000 [00:00<00:57, 17.23it/s]/Users/nathanielimel/uci/projects/sciterra/src/sciterra/librarians/s2librarian.py:215: UserWarning: The length of the citations list (1120) is different from citation_count (1127)\n",
      "  warnings.warn(\n",
      "/Users/nathanielimel/uci/projects/sciterra/src/sciterra/librarians/s2librarian.py:215: UserWarning: The length of the citations list (16) is different from citation_count (17)\n",
      "  warnings.warn(\n",
      "/Users/nathanielimel/uci/projects/sciterra/src/sciterra/librarians/s2librarian.py:215: UserWarning: The length of the citations list (436) is different from citation_count (438)\n",
      "  warnings.warn(\n",
      "/Users/nathanielimel/uci/projects/sciterra/src/sciterra/librarians/s2librarian.py:215: UserWarning: The length of the citations list (248) is different from citation_count (250)\n",
      "  warnings.warn(\n",
      "/Users/nathanielimel/uci/projects/sciterra/src/sciterra/librarians/s2librarian.py:215: UserWarning: The length of the citations list (7) is different from citation_count (8)\n",
      "  warnings.warn(\n",
      "/Users/nathanielimel/uci/projects/sciterra/src/sciterra/librarians/s2librarian.py:215: UserWarning: The length of the citations list (2251) is different from citation_count (2255)\n",
      "  warnings.warn(\n",
      "/Users/nathanielimel/uci/projects/sciterra/src/sciterra/librarians/s2librarian.py:215: UserWarning: The length of the citations list (552) is different from citation_count (554)\n",
      "  warnings.warn(\n",
      "/Users/nathanielimel/uci/projects/sciterra/src/sciterra/librarians/s2librarian.py:215: UserWarning: The length of the citations list (2708) is different from citation_count (2717)\n",
      "  warnings.warn(\n",
      "/Users/nathanielimel/uci/projects/sciterra/src/sciterra/librarians/s2librarian.py:215: UserWarning: The length of the citations list (391) is different from citation_count (394)\n",
      "  warnings.warn(\n",
      "/Users/nathanielimel/uci/projects/sciterra/src/sciterra/librarians/s2librarian.py:215: UserWarning: The length of the citations list (142) is different from citation_count (144)\n",
      "  warnings.warn(\n",
      "/Users/nathanielimel/uci/projects/sciterra/src/sciterra/librarians/s2librarian.py:215: UserWarning: The length of the citations list (257) is different from citation_count (258)\n",
      "  warnings.warn(\n",
      "/Users/nathanielimel/uci/projects/sciterra/src/sciterra/librarians/s2librarian.py:215: UserWarning: The length of the citations list (268) is different from citation_count (270)\n",
      "  warnings.warn(\n",
      "/Users/nathanielimel/uci/projects/sciterra/src/sciterra/librarians/s2librarian.py:215: UserWarning: The length of the citations list (111) is different from citation_count (112)\n",
      "  warnings.warn(\n",
      "/Users/nathanielimel/uci/projects/sciterra/src/sciterra/librarians/s2librarian.py:215: UserWarning: The length of the citations list (189) is different from citation_count (190)\n",
      "  warnings.warn(\n",
      "/Users/nathanielimel/uci/projects/sciterra/src/sciterra/librarians/s2librarian.py:215: UserWarning: The length of the citations list (18) is different from citation_count (19)\n",
      "  warnings.warn(\n",
      "/Users/nathanielimel/uci/projects/sciterra/src/sciterra/librarians/s2librarian.py:215: UserWarning: The length of the citations list (59) is different from citation_count (60)\n",
      "  warnings.warn(\n",
      "/Users/nathanielimel/uci/projects/sciterra/src/sciterra/librarians/s2librarian.py:215: UserWarning: The length of the citations list (216) is different from citation_count (218)\n",
      "  warnings.warn(\n",
      "/Users/nathanielimel/uci/projects/sciterra/src/sciterra/librarians/s2librarian.py:215: UserWarning: The length of the citations list (212) is different from citation_count (213)\n",
      "  warnings.warn(\n",
      "/Users/nathanielimel/uci/projects/sciterra/src/sciterra/librarians/s2librarian.py:215: UserWarning: The length of the citations list (337) is different from citation_count (341)\n",
      "  warnings.warn(\n",
      "/Users/nathanielimel/uci/projects/sciterra/src/sciterra/librarians/s2librarian.py:215: UserWarning: The length of the citations list (1426) is different from citation_count (1430)\n",
      "  warnings.warn(\n",
      " 25%|██▍       | 247/1000 [00:00<00:00, 897.32it/s]/Users/nathanielimel/uci/projects/sciterra/src/sciterra/librarians/s2librarian.py:215: UserWarning: The length of the citations list (5278) is different from citation_count (5292)\n",
      "  warnings.warn(\n",
      "/Users/nathanielimel/uci/projects/sciterra/src/sciterra/librarians/s2librarian.py:215: UserWarning: The length of the citations list (349) is different from citation_count (350)\n",
      "  warnings.warn(\n",
      "/Users/nathanielimel/uci/projects/sciterra/src/sciterra/librarians/s2librarian.py:215: UserWarning: The length of the citations list (188) is different from citation_count (189)\n",
      "  warnings.warn(\n",
      "/Users/nathanielimel/uci/projects/sciterra/src/sciterra/librarians/s2librarian.py:215: UserWarning: The length of the citations list (257) is different from citation_count (258)\n",
      "  warnings.warn(\n",
      "/Users/nathanielimel/uci/projects/sciterra/src/sciterra/librarians/s2librarian.py:215: UserWarning: The length of the citations list (148) is different from citation_count (149)\n",
      "  warnings.warn(\n",
      "/Users/nathanielimel/uci/projects/sciterra/src/sciterra/librarians/s2librarian.py:215: UserWarning: The length of the citations list (77) is different from citation_count (78)\n",
      "  warnings.warn(\n",
      "/Users/nathanielimel/uci/projects/sciterra/src/sciterra/librarians/s2librarian.py:215: UserWarning: The length of the citations list (1424) is different from citation_count (1425)\n",
      "  warnings.warn(\n",
      "/Users/nathanielimel/uci/projects/sciterra/src/sciterra/librarians/s2librarian.py:215: UserWarning: The length of the citations list (30) is different from citation_count (31)\n",
      "  warnings.warn(\n",
      "/Users/nathanielimel/uci/projects/sciterra/src/sciterra/librarians/s2librarian.py:215: UserWarning: The length of the citations list (1264) is different from citation_count (1270)\n",
      "  warnings.warn(\n",
      "/Users/nathanielimel/uci/projects/sciterra/src/sciterra/librarians/s2librarian.py:215: UserWarning: The length of the citations list (498) is different from citation_count (500)\n",
      "  warnings.warn(\n",
      "/Users/nathanielimel/uci/projects/sciterra/src/sciterra/librarians/s2librarian.py:215: UserWarning: The length of the citations list (924) is different from citation_count (929)\n",
      "  warnings.warn(\n",
      "/Users/nathanielimel/uci/projects/sciterra/src/sciterra/librarians/s2librarian.py:215: UserWarning: The length of the citations list (489) is different from citation_count (491)\n",
      "  warnings.warn(\n",
      "/Users/nathanielimel/uci/projects/sciterra/src/sciterra/librarians/s2librarian.py:215: UserWarning: The length of the citations list (20) is different from citation_count (21)\n",
      "  warnings.warn(\n",
      "/Users/nathanielimel/uci/projects/sciterra/src/sciterra/librarians/s2librarian.py:215: UserWarning: The length of the citations list (48) is different from citation_count (49)\n",
      "  warnings.warn(\n",
      "/Users/nathanielimel/uci/projects/sciterra/src/sciterra/librarians/s2librarian.py:215: UserWarning: The length of the citations list (212) is different from citation_count (213)\n",
      "  warnings.warn(\n",
      "/Users/nathanielimel/uci/projects/sciterra/src/sciterra/librarians/s2librarian.py:215: UserWarning: The length of the citations list (792) is different from citation_count (797)\n",
      "  warnings.warn(\n",
      "/Users/nathanielimel/uci/projects/sciterra/src/sciterra/librarians/s2librarian.py:215: UserWarning: The length of the citations list (420) is different from citation_count (421)\n",
      "  warnings.warn(\n",
      "/Users/nathanielimel/uci/projects/sciterra/src/sciterra/librarians/s2librarian.py:215: UserWarning: The length of the citations list (76) is different from citation_count (77)\n",
      "  warnings.warn(\n",
      "/Users/nathanielimel/uci/projects/sciterra/src/sciterra/librarians/s2librarian.py:215: UserWarning: The length of the citations list (43) is different from citation_count (44)\n",
      "  warnings.warn(\n",
      "/Users/nathanielimel/uci/projects/sciterra/src/sciterra/librarians/s2librarian.py:215: UserWarning: The length of the citations list (138) is different from citation_count (139)\n",
      "  warnings.warn(\n",
      "/Users/nathanielimel/uci/projects/sciterra/src/sciterra/librarians/s2librarian.py:215: UserWarning: The length of the citations list (23) is different from citation_count (24)\n",
      "  warnings.warn(\n",
      "/Users/nathanielimel/uci/projects/sciterra/src/sciterra/librarians/s2librarian.py:215: UserWarning: The length of the citations list (32) is different from citation_count (33)\n",
      "  warnings.warn(\n",
      "/Users/nathanielimel/uci/projects/sciterra/src/sciterra/librarians/s2librarian.py:215: UserWarning: The length of the citations list (200) is different from citation_count (201)\n",
      "  warnings.warn(\n",
      "/Users/nathanielimel/uci/projects/sciterra/src/sciterra/librarians/s2librarian.py:215: UserWarning: The length of the citations list (158) is different from citation_count (161)\n",
      "  warnings.warn(\n",
      "/Users/nathanielimel/uci/projects/sciterra/src/sciterra/librarians/s2librarian.py:215: UserWarning: The length of the citations list (340) is different from citation_count (341)\n",
      "  warnings.warn(\n",
      "/Users/nathanielimel/uci/projects/sciterra/src/sciterra/librarians/s2librarian.py:215: UserWarning: The length of the citations list (23) is different from citation_count (25)\n",
      "  warnings.warn(\n",
      "/Users/nathanielimel/uci/projects/sciterra/src/sciterra/librarians/s2librarian.py:215: UserWarning: The length of the citations list (316) is different from citation_count (317)\n",
      "  warnings.warn(\n",
      "/Users/nathanielimel/uci/projects/sciterra/src/sciterra/librarians/s2librarian.py:215: UserWarning: The length of the citations list (63) is different from citation_count (64)\n",
      "  warnings.warn(\n",
      "/Users/nathanielimel/uci/projects/sciterra/src/sciterra/librarians/s2librarian.py:215: UserWarning: The length of the citations list (902) is different from citation_count (906)\n",
      "  warnings.warn(\n",
      "/Users/nathanielimel/uci/projects/sciterra/src/sciterra/librarians/s2librarian.py:215: UserWarning: The length of the citations list (91) is different from citation_count (92)\n",
      "  warnings.warn(\n",
      "/Users/nathanielimel/uci/projects/sciterra/src/sciterra/librarians/s2librarian.py:215: UserWarning: The length of the citations list (132) is different from citation_count (133)\n",
      "  warnings.warn(\n",
      "/Users/nathanielimel/uci/projects/sciterra/src/sciterra/librarians/s2librarian.py:215: UserWarning: The length of the citations list (678) is different from citation_count (681)\n",
      "  warnings.warn(\n",
      "/Users/nathanielimel/uci/projects/sciterra/src/sciterra/librarians/s2librarian.py:215: UserWarning: The length of the citations list (1780) is different from citation_count (1791)\n",
      "  warnings.warn(\n",
      "/Users/nathanielimel/uci/projects/sciterra/src/sciterra/librarians/s2librarian.py:215: UserWarning: The length of the citations list (42) is different from citation_count (43)\n",
      "  warnings.warn(\n",
      " 56%|█████▌    | 559/1000 [00:00<00:00, 1594.91it/s]/Users/nathanielimel/uci/projects/sciterra/src/sciterra/librarians/s2librarian.py:215: UserWarning: The length of the citations list (1201) is different from citation_count (1208)\n",
      "  warnings.warn(\n",
      "/Users/nathanielimel/uci/projects/sciterra/src/sciterra/librarians/s2librarian.py:215: UserWarning: The length of the citations list (21) is different from citation_count (22)\n",
      "  warnings.warn(\n",
      "/Users/nathanielimel/uci/projects/sciterra/src/sciterra/librarians/s2librarian.py:215: UserWarning: The length of the citations list (1288) is different from citation_count (1289)\n",
      "  warnings.warn(\n",
      "/Users/nathanielimel/uci/projects/sciterra/src/sciterra/librarians/s2librarian.py:215: UserWarning: The length of the citations list (75) is different from citation_count (76)\n",
      "  warnings.warn(\n",
      "/Users/nathanielimel/uci/projects/sciterra/src/sciterra/librarians/s2librarian.py:215: UserWarning: The length of the citations list (1746) is different from citation_count (1753)\n",
      "  warnings.warn(\n",
      "/Users/nathanielimel/uci/projects/sciterra/src/sciterra/librarians/s2librarian.py:215: UserWarning: The length of the citations list (345) is different from citation_count (347)\n",
      "  warnings.warn(\n",
      "/Users/nathanielimel/uci/projects/sciterra/src/sciterra/librarians/s2librarian.py:215: UserWarning: The length of the citations list (293) is different from citation_count (294)\n",
      "  warnings.warn(\n",
      "/Users/nathanielimel/uci/projects/sciterra/src/sciterra/librarians/s2librarian.py:215: UserWarning: The length of the citations list (188) is different from citation_count (189)\n",
      "  warnings.warn(\n",
      "/Users/nathanielimel/uci/projects/sciterra/src/sciterra/librarians/s2librarian.py:215: UserWarning: The length of the citations list (151) is different from citation_count (154)\n",
      "  warnings.warn(\n",
      "/Users/nathanielimel/uci/projects/sciterra/src/sciterra/librarians/s2librarian.py:215: UserWarning: The length of the citations list (16) is different from citation_count (17)\n",
      "  warnings.warn(\n",
      "/Users/nathanielimel/uci/projects/sciterra/src/sciterra/librarians/s2librarian.py:215: UserWarning: The length of the citations list (247) is different from citation_count (248)\n",
      "  warnings.warn(\n",
      "/Users/nathanielimel/uci/projects/sciterra/src/sciterra/librarians/s2librarian.py:215: UserWarning: The length of the citations list (6) is different from citation_count (7)\n",
      "  warnings.warn(\n",
      "/Users/nathanielimel/uci/projects/sciterra/src/sciterra/librarians/s2librarian.py:215: UserWarning: The length of the citations list (3078) is different from citation_count (3083)\n",
      "  warnings.warn(\n",
      "/Users/nathanielimel/uci/projects/sciterra/src/sciterra/librarians/s2librarian.py:215: UserWarning: The length of the citations list (289) is different from citation_count (293)\n",
      "  warnings.warn(\n",
      "/Users/nathanielimel/uci/projects/sciterra/src/sciterra/librarians/s2librarian.py:215: UserWarning: The length of the citations list (1186) is different from citation_count (1191)\n",
      "  warnings.warn(\n",
      "/Users/nathanielimel/uci/projects/sciterra/src/sciterra/librarians/s2librarian.py:215: UserWarning: The length of the citations list (443) is different from citation_count (448)\n",
      "  warnings.warn(\n",
      "/Users/nathanielimel/uci/projects/sciterra/src/sciterra/librarians/s2librarian.py:215: UserWarning: The length of the citations list (376) is different from citation_count (378)\n",
      "  warnings.warn(\n",
      "/Users/nathanielimel/uci/projects/sciterra/src/sciterra/librarians/s2librarian.py:215: UserWarning: The length of the citations list (11) is different from citation_count (12)\n",
      "  warnings.warn(\n",
      "/Users/nathanielimel/uci/projects/sciterra/src/sciterra/librarians/s2librarian.py:215: UserWarning: The length of the citations list (710) is different from citation_count (711)\n",
      "  warnings.warn(\n",
      "/Users/nathanielimel/uci/projects/sciterra/src/sciterra/librarians/s2librarian.py:215: UserWarning: The length of the citations list (28) is different from citation_count (29)\n",
      "  warnings.warn(\n",
      "/Users/nathanielimel/uci/projects/sciterra/src/sciterra/librarians/s2librarian.py:215: UserWarning: The length of the citations list (96) is different from citation_count (97)\n",
      "  warnings.warn(\n",
      "/Users/nathanielimel/uci/projects/sciterra/src/sciterra/librarians/s2librarian.py:215: UserWarning: The length of the citations list (148) is different from citation_count (149)\n",
      "  warnings.warn(\n",
      "/Users/nathanielimel/uci/projects/sciterra/src/sciterra/librarians/s2librarian.py:215: UserWarning: The length of the citations list (34) is different from citation_count (35)\n",
      "  warnings.warn(\n",
      "/Users/nathanielimel/uci/projects/sciterra/src/sciterra/librarians/s2librarian.py:215: UserWarning: The length of the citations list (471) is different from citation_count (475)\n",
      "  warnings.warn(\n",
      "/Users/nathanielimel/uci/projects/sciterra/src/sciterra/librarians/s2librarian.py:215: UserWarning: The length of the citations list (310) is different from citation_count (311)\n",
      "  warnings.warn(\n",
      "/Users/nathanielimel/uci/projects/sciterra/src/sciterra/librarians/s2librarian.py:215: UserWarning: The length of the citations list (20) is different from citation_count (21)\n",
      "  warnings.warn(\n",
      "/Users/nathanielimel/uci/projects/sciterra/src/sciterra/librarians/s2librarian.py:215: UserWarning: The length of the citations list (378) is different from citation_count (379)\n",
      "  warnings.warn(\n",
      "/Users/nathanielimel/uci/projects/sciterra/src/sciterra/librarians/s2librarian.py:215: UserWarning: The length of the citations list (201) is different from citation_count (202)\n",
      "  warnings.warn(\n",
      "/Users/nathanielimel/uci/projects/sciterra/src/sciterra/librarians/s2librarian.py:215: UserWarning: The length of the citations list (11) is different from citation_count (12)\n",
      "  warnings.warn(\n",
      "/Users/nathanielimel/uci/projects/sciterra/src/sciterra/librarians/s2librarian.py:215: UserWarning: The length of the citations list (77) is different from citation_count (79)\n",
      "  warnings.warn(\n",
      "/Users/nathanielimel/uci/projects/sciterra/src/sciterra/librarians/s2librarian.py:215: UserWarning: The length of the citations list (346) is different from citation_count (348)\n",
      "  warnings.warn(\n",
      "/Users/nathanielimel/uci/projects/sciterra/src/sciterra/librarians/s2librarian.py:215: UserWarning: The length of the citations list (104) is different from citation_count (105)\n",
      "  warnings.warn(\n",
      "/Users/nathanielimel/uci/projects/sciterra/src/sciterra/librarians/s2librarian.py:215: UserWarning: The length of the citations list (13) is different from citation_count (14)\n",
      "  warnings.warn(\n",
      "/Users/nathanielimel/uci/projects/sciterra/src/sciterra/librarians/s2librarian.py:215: UserWarning: The length of the citations list (82) is different from citation_count (83)\n",
      "  warnings.warn(\n",
      "/Users/nathanielimel/uci/projects/sciterra/src/sciterra/librarians/s2librarian.py:215: UserWarning: The length of the citations list (21) is different from citation_count (22)\n",
      "  warnings.warn(\n",
      "/Users/nathanielimel/uci/projects/sciterra/src/sciterra/librarians/s2librarian.py:215: UserWarning: The length of the citations list (18) is different from citation_count (19)\n",
      "  warnings.warn(\n",
      "/Users/nathanielimel/uci/projects/sciterra/src/sciterra/librarians/s2librarian.py:215: UserWarning: The length of the citations list (164) is different from citation_count (166)\n",
      "  warnings.warn(\n",
      "/Users/nathanielimel/uci/projects/sciterra/src/sciterra/librarians/s2librarian.py:215: UserWarning: The length of the citations list (17) is different from citation_count (18)\n",
      "  warnings.warn(\n",
      " 91%|█████████▏| 913/1000 [00:00<00:00, 2216.63it/s]/Users/nathanielimel/uci/projects/sciterra/src/sciterra/librarians/s2librarian.py:215: UserWarning: The length of the citations list (33) is different from citation_count (34)\n",
      "  warnings.warn(\n",
      "/Users/nathanielimel/uci/projects/sciterra/src/sciterra/librarians/s2librarian.py:215: UserWarning: The length of the citations list (483) is different from citation_count (486)\n",
      "  warnings.warn(\n",
      "/Users/nathanielimel/uci/projects/sciterra/src/sciterra/librarians/s2librarian.py:215: UserWarning: The length of the citations list (6) is different from citation_count (7)\n",
      "  warnings.warn(\n",
      "/Users/nathanielimel/uci/projects/sciterra/src/sciterra/librarians/s2librarian.py:215: UserWarning: The length of the citations list (157) is different from citation_count (158)\n",
      "  warnings.warn(\n",
      "/Users/nathanielimel/uci/projects/sciterra/src/sciterra/librarians/s2librarian.py:215: UserWarning: The length of the citations list (451) is different from citation_count (454)\n",
      "  warnings.warn(\n",
      "/Users/nathanielimel/uci/projects/sciterra/src/sciterra/librarians/s2librarian.py:215: UserWarning: The length of the citations list (8) is different from citation_count (9)\n",
      "  warnings.warn(\n",
      "/Users/nathanielimel/uci/projects/sciterra/src/sciterra/librarians/s2librarian.py:215: UserWarning: The length of the citations list (274) is different from citation_count (275)\n",
      "  warnings.warn(\n",
      "100%|██████████| 1000/1000 [00:00<00:00, 1858.67it/s]\n"
     ]
    }
   ],
   "source": [
    "# second expansion\n",
    "# atl_double_exp = crt.expand(atl_single_exp, center=center, n_pubs_max=1000)\n",
    "\n",
    "atl_double_exp = crt.expand(atl_double_exp, center=center, n_pubs_max=1000)\n"
   ]
  },
  {
   "cell_type": "code",
   "execution_count": 7,
   "metadata": {},
   "outputs": [
    {
     "data": {
      "text/plain": [
       "2399"
      ]
     },
     "execution_count": 7,
     "metadata": {},
     "output_type": "execute_result"
    }
   ],
   "source": [
    "len(atl_double_exp)"
   ]
  },
  {
   "cell_type": "code",
   "execution_count": 8,
   "metadata": {},
   "outputs": [
    {
     "name": "stderr",
     "output_type": "stream",
     "text": [
      "embedding documents: 2048it [33:00,  1.03it/s]                          \n",
      "/Users/nathanielimel/uci/projects/sciterra/src/sciterra/atlas.py:74: UserWarning: Overwriting existing file at outputs/atlas_double/publications.pkl.\n",
      "  warnings.warn(f\"Overwriting existing file at {fp}.\")\n",
      "/Users/nathanielimel/uci/projects/sciterra/src/sciterra/atlas.py:85: UserWarning: Overwriting existing file at outputs/atlas_double/projection.pkl.\n",
      "  warnings.warn(f\"Overwriting existing file at {fp}.\")\n"
     ]
    }
   ],
   "source": [
    "atl_double_exp = crt.project(atl_double_exp)\n",
    "\n",
    "atl_double_exp.save(double_path)\n",
    "\n",
    "# atl_double_exp_loaded = Atlas.load(double_path)"
   ]
  },
  {
   "cell_type": "code",
   "execution_count": 10,
   "metadata": {},
   "outputs": [],
   "source": [
    "atl_double_exp_loaded = Atlas.load(double_path)"
   ]
  },
  {
   "cell_type": "code",
   "execution_count": 26,
   "metadata": {},
   "outputs": [
    {
     "data": {
      "text/plain": [
       "\"Logical omniscience may be described (roughly) as the state of affairs in which an agent explicitly believes anything which is logically entailed by that agent's beliefs. It is widely agreed that humans are not logically omniscient, and that an adequate formal model of belief, coupled with a correct semantic theory, would not entail logical omniscience. Recently, two prominent models of belief have emerged which purport both to avoid logical omniscience and to provide an intuitively appealing semantics. The first of these models is due to Levesque (1984b); the second to Fagin and Halpem (1985). It is argued herein that each of these models faces serious difficulties. Detailed criticisms are presented for each model, and a computationally oriented theory of intensions is presented which provides the foundation for a new formal model of belief. This formal model is presented in a decidable subset of first‐order logic and is shown to provide a solution to the general problem of logical omniscience. The model provides for the possibility of belief revision and places no a priori restrictions upon an agent's representation language.\""
      ]
     },
     "execution_count": 26,
     "metadata": {},
     "output_type": "execute_result"
    }
   ],
   "source": [
    "import random\n",
    "identifier = random.choice(atl_double_exp.projection.index_to_identifier)\n",
    "pub = atl_double_exp[identifier]\n",
    "pub.abstract"
   ]
  }
 ],
 "metadata": {
  "kernelspec": {
   "display_name": "sciterra",
   "language": "python",
   "name": "python3"
  },
  "language_info": {
   "codemirror_mode": {
    "name": "ipython",
    "version": 3
   },
   "file_extension": ".py",
   "mimetype": "text/x-python",
   "name": "python",
   "nbconvert_exporter": "python",
   "pygments_lexer": "ipython3",
   "version": "3.11.3"
  },
  "orig_nbformat": 4
 },
 "nbformat": 4,
 "nbformat_minor": 2
}
