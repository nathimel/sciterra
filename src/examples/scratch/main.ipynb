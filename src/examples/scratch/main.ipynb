{
 "cells": [
  {
   "attachments": {},
   "cell_type": "markdown",
   "metadata": {},
   "source": [
    "## Setup"
   ]
  },
  {
   "cell_type": "code",
   "execution_count": null,
   "metadata": {},
   "outputs": [],
   "source": [
    "from sciterra.mapping.atlas import Atlas\n",
    "from sciterra.mapping.cartography import Cartographer\n",
    "from sciterra.librarians.s2librarian import SemanticScholarLibrarian\n",
    "from sciterra.librarians.adslibrarian import ADSLibrarian\n",
    "from sciterra.vectorization.scibert import SciBERTVectorizer"
   ]
  },
  {
   "cell_type": "code",
   "execution_count": null,
   "metadata": {},
   "outputs": [],
   "source": [
    "bibtex_fp = \"data/single_publication.bib\"\n",
    "atlas_dir = \"outputs/atlas_s2\""
   ]
  },
  {
   "attachments": {},
   "cell_type": "markdown",
   "metadata": {},
   "source": [
    "## Expand"
   ]
  },
  {
   "cell_type": "code",
   "execution_count": 31,
   "metadata": {},
   "outputs": [
    {
     "name": "stderr",
     "output_type": "stream",
     "text": [
      "Some weights of the model checkpoint at allenai/scibert_scivocab_uncased were not used when initializing BertForSequenceClassification: ['cls.seq_relationship.bias', 'cls.predictions.transform.dense.bias', 'cls.predictions.decoder.weight', 'cls.predictions.transform.LayerNorm.bias', 'cls.predictions.decoder.bias', 'cls.predictions.transform.dense.weight', 'cls.predictions.bias', 'cls.predictions.transform.LayerNorm.weight', 'cls.seq_relationship.weight']\n",
      "- This IS expected if you are initializing BertForSequenceClassification from the checkpoint of a model trained on another task or with another architecture (e.g. initializing a BertForSequenceClassification model from a BertForPreTraining model).\n",
      "- This IS NOT expected if you are initializing BertForSequenceClassification from the checkpoint of a model that you expect to be exactly identical (initializing a BertForSequenceClassification model from a BertForSequenceClassification model).\n",
      "Some weights of BertForSequenceClassification were not initialized from the model checkpoint at allenai/scibert_scivocab_uncased and are newly initialized: ['classifier.weight', 'classifier.bias']\n",
      "You should probably TRAIN this model on a down-stream task to be able to use it for predictions and inference.\n"
     ]
    },
    {
     "name": "stdout",
     "output_type": "stream",
     "text": [
      "Using device: cpu.\n",
      "Querying ADS for 1 total papers.\n"
     ]
    },
    {
     "name": "stderr",
     "output_type": "stream",
     "text": [
      "progress using call_size=2000:   0%|          | 0/1 [00:00<?, ?it/s]"
     ]
    },
    {
     "name": "stdout",
     "output_type": "stream",
     "text": [
      "Had to call <function ADSLibrarian.get_publications.<locals>.get_papers at 0x1380d42c0> 10 times to get a response. Trying once more.\n"
     ]
    },
    {
     "ename": "APIResponseError",
     "evalue": "'{\\n  \"error\": \"Too many requests\"\\n}\\n'",
     "output_type": "error",
     "traceback": [
      "\u001b[0;31m---------------------------------------------------------------------------\u001b[0m",
      "\u001b[0;31mAPIResponseError\u001b[0m                          Traceback (most recent call last)",
      "Cell \u001b[0;32mIn[31], line 8\u001b[0m\n\u001b[1;32m      1\u001b[0m crt \u001b[39m=\u001b[39m Cartographer(\n\u001b[1;32m      2\u001b[0m     \u001b[39m# librarian = SemanticScholarLibrarian(), \u001b[39;00m\n\u001b[1;32m      3\u001b[0m     librarian \u001b[39m=\u001b[39m ADSLibrarian(),\n\u001b[1;32m      4\u001b[0m     vectorizer \u001b[39m=\u001b[39m SciBERTVectorizer(),\n\u001b[1;32m      5\u001b[0m )\n\u001b[1;32m      7\u001b[0m \u001b[39m# Construct Atlas\u001b[39;00m\n\u001b[0;32m----> 8\u001b[0m atl \u001b[39m=\u001b[39m crt\u001b[39m.\u001b[39;49mbibtex_to_atlas(bibtex_fp)\n\u001b[1;32m     10\u001b[0m pub \u001b[39m=\u001b[39m \u001b[39mlist\u001b[39m(atl\u001b[39m.\u001b[39mpublications\u001b[39m.\u001b[39mvalues())[\u001b[39m0\u001b[39m]\n\u001b[1;32m     11\u001b[0m center \u001b[39m=\u001b[39m pub\u001b[39m.\u001b[39midentifier\n",
      "File \u001b[0;32m~/uci/projects/sciterra/src/sciterra/mapping/cartography.py:56\u001b[0m, in \u001b[0;36mCartographer.bibtex_to_atlas\u001b[0;34m(self, bibtex_fp, *args, **kwargs)\u001b[0m\n\u001b[1;32m     51\u001b[0m     warnings\u001b[39m.\u001b[39mwarn(\n\u001b[1;32m     52\u001b[0m         \u001b[39mf\u001b[39m\u001b[39m\"\u001b[39m\u001b[39mOnly obtained \u001b[39m\u001b[39m{\u001b[39;00m\u001b[39mlen\u001b[39m(identifiers)\u001b[39m}\u001b[39;00m\u001b[39m publications out of \u001b[39m\u001b[39m{\u001b[39;00m\u001b[39mlen\u001b[39m(bib_database\u001b[39m.\u001b[39mentries)\u001b[39m}\u001b[39;00m\u001b[39m total due to missing identifiers.\u001b[39m\u001b[39m\"\u001b[39m\n\u001b[1;32m     53\u001b[0m     )\n\u001b[1;32m     55\u001b[0m \u001b[39m# Query\u001b[39;00m\n\u001b[0;32m---> 56\u001b[0m results \u001b[39m=\u001b[39m \u001b[39mself\u001b[39;49m\u001b[39m.\u001b[39;49mlibrarian\u001b[39m.\u001b[39;49mget_publications(identifiers, \u001b[39m*\u001b[39;49margs, \u001b[39m*\u001b[39;49m\u001b[39m*\u001b[39;49mkwargs)\n\u001b[1;32m     57\u001b[0m \u001b[39m# Validate\u001b[39;00m\n\u001b[1;32m     58\u001b[0m publications \u001b[39m=\u001b[39m [\n\u001b[1;32m     59\u001b[0m     result\n\u001b[1;32m     60\u001b[0m     \u001b[39mfor\u001b[39;00m result \u001b[39min\u001b[39;00m results\n\u001b[0;32m   (...)\u001b[0m\n\u001b[1;32m     66\u001b[0m     )\n\u001b[1;32m     67\u001b[0m ]\n",
      "File \u001b[0;32m~/uci/projects/sciterra/src/sciterra/librarians/adslibrarian.py:116\u001b[0m, in \u001b[0;36mADSLibrarian.get_publications\u001b[0;34m(self, bibcodes, call_size, n_attempts_per_query, convert, *args, **kwargs)\u001b[0m\n\u001b[1;32m     96\u001b[0m     \u001b[39m@keep_trying\u001b[39m(\n\u001b[1;32m     97\u001b[0m         n_attempts\u001b[39m=\u001b[39mn_attempts_per_query,\n\u001b[1;32m     98\u001b[0m         allowed_exceptions\u001b[39m=\u001b[39mALLOWED_EXCEPTIONS,\n\u001b[1;32m     99\u001b[0m         sleep_after_attempt\u001b[39m=\u001b[39m\u001b[39m2\u001b[39m,\n\u001b[1;32m    100\u001b[0m     )\n\u001b[1;32m    101\u001b[0m     \u001b[39mdef\u001b[39;00m \u001b[39mget_papers\u001b[39m() \u001b[39m-\u001b[39m\u001b[39m>\u001b[39m \u001b[39mlist\u001b[39m[Article]:\n\u001b[1;32m    102\u001b[0m         \u001b[39mreturn\u001b[39;00m [\n\u001b[1;32m    103\u001b[0m             \u001b[39mlist\u001b[39m(\n\u001b[1;32m    104\u001b[0m                 ads\u001b[39m.\u001b[39mSearchQuery(\n\u001b[0;32m   (...)\u001b[0m\n\u001b[1;32m    113\u001b[0m             \u001b[39mfor\u001b[39;00m query \u001b[39min\u001b[39;00m ids\n\u001b[1;32m    114\u001b[0m         ]\n\u001b[0;32m--> 116\u001b[0m     papers\u001b[39m.\u001b[39mextend(get_papers())\n\u001b[1;32m    117\u001b[0m     pbar\u001b[39m.\u001b[39mupdate(\u001b[39mlen\u001b[39m(ids))\n\u001b[1;32m    119\u001b[0m pbar\u001b[39m.\u001b[39mclose()\n",
      "File \u001b[0;32m~/uci/projects/sciterra/src/sciterra/misc/utils.py:103\u001b[0m, in \u001b[0;36mkeep_trying.<locals>._keep_trying.<locals>.wrapped_fn\u001b[0;34m(*args, **kwargs)\u001b[0m\n\u001b[1;32m     99\u001b[0m \u001b[39mif\u001b[39;00m verbose:\n\u001b[1;32m    100\u001b[0m     \u001b[39mprint\u001b[39m(\n\u001b[1;32m    101\u001b[0m         \u001b[39mf\u001b[39m\u001b[39m\"\u001b[39m\u001b[39mHad to call \u001b[39m\u001b[39m{\u001b[39;00mf\u001b[39m}\u001b[39;00m\u001b[39m \u001b[39m\u001b[39m{\u001b[39;00mn_attempts\u001b[39m}\u001b[39;00m\u001b[39m times to get a response. Trying once more.\u001b[39m\u001b[39m\"\u001b[39m\n\u001b[1;32m    102\u001b[0m     )\n\u001b[0;32m--> 103\u001b[0m \u001b[39mreturn\u001b[39;00m f(\u001b[39m*\u001b[39;49margs, \u001b[39m*\u001b[39;49m\u001b[39m*\u001b[39;49mkwargs)\n",
      "File \u001b[0;32m~/uci/projects/sciterra/src/sciterra/librarians/adslibrarian.py:102\u001b[0m, in \u001b[0;36mADSLibrarian.get_publications.<locals>.get_papers\u001b[0;34m()\u001b[0m\n\u001b[1;32m     96\u001b[0m \u001b[39m@keep_trying\u001b[39m(\n\u001b[1;32m     97\u001b[0m     n_attempts\u001b[39m=\u001b[39mn_attempts_per_query,\n\u001b[1;32m     98\u001b[0m     allowed_exceptions\u001b[39m=\u001b[39mALLOWED_EXCEPTIONS,\n\u001b[1;32m     99\u001b[0m     sleep_after_attempt\u001b[39m=\u001b[39m\u001b[39m2\u001b[39m,\n\u001b[1;32m    100\u001b[0m )\n\u001b[1;32m    101\u001b[0m \u001b[39mdef\u001b[39;00m \u001b[39mget_papers\u001b[39m() \u001b[39m-\u001b[39m\u001b[39m>\u001b[39m \u001b[39mlist\u001b[39m[Article]:\n\u001b[0;32m--> 102\u001b[0m     \u001b[39mreturn\u001b[39;00m [\n\u001b[1;32m    103\u001b[0m         \u001b[39mlist\u001b[39;49m(\n\u001b[1;32m    104\u001b[0m             ads\u001b[39m.\u001b[39;49mSearchQuery(\n\u001b[1;32m    105\u001b[0m                 query_dict\u001b[39m=\u001b[39;49m{\n\u001b[1;32m    106\u001b[0m                     \u001b[39m\"\u001b[39;49m\u001b[39mq\u001b[39;49m\u001b[39m\"\u001b[39;49m: query,\n\u001b[1;32m    107\u001b[0m                     \u001b[39m\"\u001b[39;49m\u001b[39mfl\u001b[39;49m\u001b[39m\"\u001b[39;49m: QUERY_FIELDS,\n\u001b[1;32m    108\u001b[0m                 }\n\u001b[1;32m    109\u001b[0m             )\n\u001b[1;32m    110\u001b[0m         )[\n\u001b[1;32m    111\u001b[0m             \u001b[39m0\u001b[39;49m \u001b[39m# screw black, this is ugly\u001b[39;49;00m\n\u001b[1;32m    112\u001b[0m         ]  \u001b[39m# retrieve from generator\u001b[39;49;00m\n\u001b[1;32m    113\u001b[0m         \u001b[39mfor\u001b[39;49;00m query \u001b[39min\u001b[39;49;00m ids\n\u001b[1;32m    114\u001b[0m     ]\n",
      "File \u001b[0;32m~/uci/projects/sciterra/src/sciterra/librarians/adslibrarian.py:103\u001b[0m, in \u001b[0;36m<listcomp>\u001b[0;34m(.0)\u001b[0m\n\u001b[1;32m     96\u001b[0m \u001b[39m@keep_trying\u001b[39m(\n\u001b[1;32m     97\u001b[0m     n_attempts\u001b[39m=\u001b[39mn_attempts_per_query,\n\u001b[1;32m     98\u001b[0m     allowed_exceptions\u001b[39m=\u001b[39mALLOWED_EXCEPTIONS,\n\u001b[1;32m     99\u001b[0m     sleep_after_attempt\u001b[39m=\u001b[39m\u001b[39m2\u001b[39m,\n\u001b[1;32m    100\u001b[0m )\n\u001b[1;32m    101\u001b[0m \u001b[39mdef\u001b[39;00m \u001b[39mget_papers\u001b[39m() \u001b[39m-\u001b[39m\u001b[39m>\u001b[39m \u001b[39mlist\u001b[39m[Article]:\n\u001b[1;32m    102\u001b[0m     \u001b[39mreturn\u001b[39;00m [\n\u001b[0;32m--> 103\u001b[0m         \u001b[39mlist\u001b[39m(\n\u001b[1;32m    104\u001b[0m             ads\u001b[39m.\u001b[39mSearchQuery(\n\u001b[1;32m    105\u001b[0m                 query_dict\u001b[39m=\u001b[39m{\n\u001b[1;32m    106\u001b[0m                     \u001b[39m\"\u001b[39m\u001b[39mq\u001b[39m\u001b[39m\"\u001b[39m: query,\n\u001b[1;32m    107\u001b[0m                     \u001b[39m\"\u001b[39m\u001b[39mfl\u001b[39m\u001b[39m\"\u001b[39m: QUERY_FIELDS,\n\u001b[1;32m    108\u001b[0m                 }\n\u001b[1;32m    109\u001b[0m             )\n\u001b[1;32m    110\u001b[0m         )[\n\u001b[1;32m    111\u001b[0m             \u001b[39m0\u001b[39m \u001b[39m# screw black, this is ugly\u001b[39;00m\n\u001b[1;32m    112\u001b[0m         ]  \u001b[39m# retrieve from generator\u001b[39;00m\n\u001b[1;32m    113\u001b[0m         \u001b[39mfor\u001b[39;00m query \u001b[39min\u001b[39;00m ids\n\u001b[1;32m    114\u001b[0m     ]\n",
      "File \u001b[0;32m~/miniforge3/envs/sciterra/lib/python3.11/site-packages/ads/search.py:501\u001b[0m, in \u001b[0;36mSearchQuery.__next__\u001b[0;34m(self)\u001b[0m\n\u001b[1;32m    498\u001b[0m \u001b[39m# Allow immediate iteration without forcing a user to call .execute()\u001b[39;00m\n\u001b[1;32m    499\u001b[0m \u001b[39m# explicitly\u001b[39;00m\n\u001b[1;32m    500\u001b[0m \u001b[39mif\u001b[39;00m \u001b[39mself\u001b[39m\u001b[39m.\u001b[39mresponse \u001b[39mis\u001b[39;00m \u001b[39mNone\u001b[39;00m:\n\u001b[0;32m--> 501\u001b[0m     \u001b[39mself\u001b[39;49m\u001b[39m.\u001b[39;49mexecute()\n\u001b[1;32m    503\u001b[0m \u001b[39mtry\u001b[39;00m:\n\u001b[1;32m    504\u001b[0m     cur \u001b[39m=\u001b[39m \u001b[39mself\u001b[39m\u001b[39m.\u001b[39m_articles[\u001b[39mself\u001b[39m\u001b[39m.\u001b[39m__iter_counter]\n",
      "File \u001b[0;32m~/miniforge3/envs/sciterra/lib/python3.11/site-packages/ads/search.py:532\u001b[0m, in \u001b[0;36mSearchQuery.execute\u001b[0;34m(self)\u001b[0m\n\u001b[1;32m    526\u001b[0m \u001b[39mdef\u001b[39;00m \u001b[39mexecute\u001b[39m(\u001b[39mself\u001b[39m):\n\u001b[1;32m    527\u001b[0m \u001b[39m    \u001b[39m\u001b[39m\"\"\"\u001b[39;00m\n\u001b[1;32m    528\u001b[0m \u001b[39m    Sends the http request implied by the self.query\u001b[39;00m\n\u001b[1;32m    529\u001b[0m \u001b[39m    In addition, set up the request such that we can call next()\u001b[39;00m\n\u001b[1;32m    530\u001b[0m \u001b[39m    to provide the next page of results\u001b[39;00m\n\u001b[1;32m    531\u001b[0m \u001b[39m    \"\"\"\u001b[39;00m\n\u001b[0;32m--> 532\u001b[0m     \u001b[39mself\u001b[39m\u001b[39m.\u001b[39mresponse \u001b[39m=\u001b[39m SolrResponse\u001b[39m.\u001b[39;49mload_http_response(\n\u001b[1;32m    533\u001b[0m         \u001b[39mself\u001b[39;49m\u001b[39m.\u001b[39;49msession\u001b[39m.\u001b[39;49mget(\u001b[39mself\u001b[39;49m\u001b[39m.\u001b[39;49mHTTP_ENDPOINT, params\u001b[39m=\u001b[39;49m\u001b[39mself\u001b[39;49m\u001b[39m.\u001b[39;49mquery)\n\u001b[1;32m    534\u001b[0m     )\n\u001b[1;32m    536\u001b[0m     \u001b[39m# ADS will apply a ceiling to 'rows' and re-write the query\u001b[39;00m\n\u001b[1;32m    537\u001b[0m     \u001b[39m# This code checks if that happened by comparing the reponse\u001b[39;00m\n\u001b[1;32m    538\u001b[0m     \u001b[39m# \"rows\" with what we sent in our query\u001b[39;00m\n\u001b[1;32m    539\u001b[0m     \u001b[39m# references https://github.com/andycasey/ads/issues/45\u001b[39;00m\n\u001b[1;32m    540\u001b[0m     recv_rows \u001b[39m=\u001b[39m \u001b[39mint\u001b[39m(\u001b[39mself\u001b[39m\u001b[39m.\u001b[39mresponse\u001b[39m.\u001b[39mresponseHeader\u001b[39m.\u001b[39mget(\u001b[39m\"\u001b[39m\u001b[39mparams\u001b[39m\u001b[39m\"\u001b[39m, {})\u001b[39m.\u001b[39mget(\u001b[39m\"\u001b[39m\u001b[39mrows\u001b[39m\u001b[39m\"\u001b[39m))\n",
      "File \u001b[0;32m~/miniforge3/envs/sciterra/lib/python3.11/site-packages/ads/base.py:94\u001b[0m, in \u001b[0;36mAPIResponse.load_http_response\u001b[0;34m(cls, http_response)\u001b[0m\n\u001b[1;32m     89\u001b[0m \u001b[39m\u001b[39m\u001b[39m\"\"\"\u001b[39;00m\n\u001b[1;32m     90\u001b[0m \u001b[39mThis method should return an instantiated class and set its response\u001b[39;00m\n\u001b[1;32m     91\u001b[0m \u001b[39mto the requests.Response object.\u001b[39;00m\n\u001b[1;32m     92\u001b[0m \u001b[39m\"\"\"\u001b[39;00m\n\u001b[1;32m     93\u001b[0m \u001b[39mif\u001b[39;00m \u001b[39mnot\u001b[39;00m http_response\u001b[39m.\u001b[39mok:\n\u001b[0;32m---> 94\u001b[0m     \u001b[39mraise\u001b[39;00m APIResponseError(http_response\u001b[39m.\u001b[39mtext)\n\u001b[1;32m     95\u001b[0m c \u001b[39m=\u001b[39m \u001b[39mcls\u001b[39m(http_response)\n\u001b[1;32m     96\u001b[0m c\u001b[39m.\u001b[39mresponse \u001b[39m=\u001b[39m http_response\n",
      "\u001b[0;31mAPIResponseError\u001b[0m: '{\\n  \"error\": \"Too many requests\"\\n}\\n'"
     ]
    }
   ],
   "source": [
    "crt = Cartographer(\n",
    "    librarian = SemanticScholarLibrarian(), \n",
    "    # librarian = ADSLibrarian(),\n",
    "    vectorizer = SciBERTVectorizer(),\n",
    ")\n",
    "\n",
    "# Construct Atlas\n",
    "atl = crt.bibtex_to_atlas(bibtex_fp)\n",
    "\n",
    "pub = list(atl.publications.values())[0]\n",
    "center = pub.identifier"
   ]
  },
  {
   "cell_type": "code",
   "execution_count": null,
   "metadata": {},
   "outputs": [],
   "source": [
    "atl.publications"
   ]
  },
  {
   "cell_type": "code",
   "execution_count": null,
   "metadata": {},
   "outputs": [],
   "source": [
    "# first expansion, retrieves ~ 150 pubs\n",
    "\n",
    "atl_exp = crt.expand(atl, center=center)\n",
    "atl_exp = crt.project(atl_exp)\n",
    "\n",
    "# save progress\n",
    "atl_exp.save(atlas_dir)\n",
    "assert atl_exp == Atlas.load(atlas_dir)"
   ]
  },
  {
   "cell_type": "code",
   "execution_count": null,
   "metadata": {},
   "outputs": [],
   "source": [
    "# second expansion, retrieves up to 1000 pubs\n",
    "atl_exp = crt.expand(atl_exp, center, n_pubs_max=1000)"
   ]
  },
  {
   "cell_type": "code",
   "execution_count": null,
   "metadata": {},
   "outputs": [],
   "source": [
    "len(atl)"
   ]
  },
  {
   "cell_type": "code",
   "execution_count": null,
   "metadata": {},
   "outputs": [],
   "source": [
    "# Projection can take a while, so put it in separate cell\n",
    "atl_exp = crt.project(atl_exp)"
   ]
  },
  {
   "cell_type": "code",
   "execution_count": null,
   "metadata": {},
   "outputs": [],
   "source": [
    "# Save progress\n",
    "atl_exp.save(atlas_dir)\n",
    "assert atl_exp == Atlas.load(atlas_dir)"
   ]
  },
  {
   "cell_type": "code",
   "execution_count": null,
   "metadata": {},
   "outputs": [],
   "source": [
    "# inspect\n",
    "import random\n",
    "identifier = random.choice(atl_exp.projection.index_to_identifier)\n",
    "pub = atl_exp[identifier]\n",
    "pub.title"
   ]
  }
 ],
 "metadata": {
  "kernelspec": {
   "display_name": "sciterra",
   "language": "python",
   "name": "python3"
  },
  "language_info": {
   "codemirror_mode": {
    "name": "ipython",
    "version": 3
   },
   "file_extension": ".py",
   "mimetype": "text/x-python",
   "name": "python",
   "nbconvert_exporter": "python",
   "pygments_lexer": "ipython3",
   "version": "3.11.3"
  },
  "orig_nbformat": 4
 },
 "nbformat": 4,
 "nbformat_minor": 2
}
