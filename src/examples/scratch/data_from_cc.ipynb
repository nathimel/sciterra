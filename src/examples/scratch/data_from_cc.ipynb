{
 "cells": [
  {
   "attachments": {},
   "cell_type": "markdown",
   "metadata": {},
   "source": [
    "# Converting a CC atlas into a Sciterra Atlas\n",
    "N.B.: this requires the environment 'cc-sciterra'."
   ]
  },
  {
   "cell_type": "code",
   "execution_count": 3,
   "metadata": {},
   "outputs": [
    {
     "ename": "ModuleNotFoundError",
     "evalue": "No module named 'cc'",
     "output_type": "error",
     "traceback": [
      "\u001b[0;31m---------------------------------------------------------------------------\u001b[0m",
      "\u001b[0;31mModuleNotFoundError\u001b[0m                       Traceback (most recent call last)",
      "\u001b[1;32m/Users/nathanielimel/uci/projects/sciterra/src/examples/scratch/data_from_cc.ipynb Cell 2\u001b[0m line \u001b[0;36m8\n\u001b[1;32m      <a href='vscode-notebook-cell:/Users/nathanielimel/uci/projects/sciterra/src/examples/scratch/data_from_cc.ipynb#W1sZmlsZQ%3D%3D?line=4'>5</a>\u001b[0m \u001b[39mfrom\u001b[39;00m \u001b[39mcollections\u001b[39;00m \u001b[39mimport\u001b[39;00m Counter\n\u001b[1;32m      <a href='vscode-notebook-cell:/Users/nathanielimel/uci/projects/sciterra/src/examples/scratch/data_from_cc.ipynb#W1sZmlsZQ%3D%3D?line=6'>7</a>\u001b[0m \u001b[39mimport\u001b[39;00m \u001b[39msciterra\u001b[39;00m\n\u001b[0;32m----> <a href='vscode-notebook-cell:/Users/nathanielimel/uci/projects/sciterra/src/examples/scratch/data_from_cc.ipynb#W1sZmlsZQ%3D%3D?line=7'>8</a>\u001b[0m \u001b[39mimport\u001b[39;00m \u001b[39mcc\u001b[39;00m\n",
      "\u001b[0;31mModuleNotFoundError\u001b[0m: No module named 'cc'"
     ]
    }
   ],
   "source": [
    "import numpy as np\n",
    "import pandas as pd\n",
    "import plotnine as pn\n",
    "\n",
    "from collections import Counter\n",
    "\n",
    "import sciterra\n",
    "import cc"
   ]
  },
  {
   "cell_type": "code",
   "execution_count": 33,
   "metadata": {},
   "outputs": [],
   "source": [
    "# sciterra_atlas_dir = \"outputs/atlas_from_cc_region_0/\"\n",
    "sciterra_atlas_dir = \"outputs/atlas_from_cc_region_7/\""
   ]
  },
  {
   "cell_type": "code",
   "execution_count": 34,
   "metadata": {},
   "outputs": [],
   "source": [
    "# cc_atlas_dir = \"/Users/nathanielimel/data/literature_topography/regions/region_0/\"\n",
    "cc_atlas_dir = \"/Users/nathanielimel/data/literature_topography/regions/region_8/\""
   ]
  },
  {
   "cell_type": "code",
   "execution_count": 35,
   "metadata": {},
   "outputs": [
    {
     "name": "stdout",
     "output_type": "stream",
     "text": [
      "Loading bibliography entries.\n",
      "Storing bibliography entries.\n"
     ]
    },
    {
     "name": "stderr",
     "output_type": "stream",
     "text": [
      "100%|█████████████████████████████████| 34407/34407 [00:00<00:00, 70841.36it/s]\n"
     ]
    },
    {
     "name": "stdout",
     "output_type": "stream",
     "text": [
      "Loading saved atlas data.\n"
     ]
    },
    {
     "name": "stderr",
     "output_type": "stream",
     "text": [
      "100%|████████████████████████████████| 34401/34401 [00:00<00:00, 282886.52it/s]\n",
      "100%|███████████████████████████████| 34401/34401 [00:00<00:00, 1363602.66it/s]\n"
     ]
    }
   ],
   "source": [
    "cc_atlas = cc.atlas.Atlas(cc_atlas_dir)"
   ]
  },
  {
   "cell_type": "code",
   "execution_count": null,
   "metadata": {},
   "outputs": [],
   "source": [
    "len(cc_atlas.data)"
   ]
  },
  {
   "cell_type": "code",
   "execution_count": 36,
   "metadata": {},
   "outputs": [
    {
     "data": {
      "text/plain": [
       "['2002OptEn..41.1158D',\n",
       " '2019A&A...621A..31K',\n",
       " '2007ITAS...17.3789Y',\n",
       " '2007ITAS...17..289B',\n",
       " '2005ITAS...15..571K']"
      ]
     },
     "execution_count": 36,
     "metadata": {},
     "output_type": "execute_result"
    }
   ],
   "source": [
    "bibcodes = list(cc_atlas.data.keys())\n",
    "bibcodes[:5]"
   ]
  },
  {
   "cell_type": "code",
   "execution_count": 37,
   "metadata": {},
   "outputs": [
    {
     "data": {
      "text/plain": [
       "dict_keys(['citation_key', 'notes_categories', 'ignore_failed', 'stored_parameters', 'notes', 'cached_bibtex_fp', 'citation', 'abstract', 'citations', 'references', 'bibcode', 'entry_date', 'stemmed_content_words'])"
      ]
     },
     "execution_count": 37,
     "metadata": {},
     "output_type": "execute_result"
    }
   ],
   "source": [
    "cc_atlas[bibcodes[0]].__dict__.keys()\n"
   ]
  },
  {
   "cell_type": "code",
   "execution_count": 38,
   "metadata": {},
   "outputs": [
    {
     "data": {
      "text/plain": [
       "'2002-07-16T00:00:00Z'"
      ]
     },
     "execution_count": 38,
     "metadata": {},
     "output_type": "execute_result"
    }
   ],
   "source": [
    "cc_atlas[bibcodes[0]].entry_date"
   ]
  },
  {
   "cell_type": "code",
   "execution_count": 39,
   "metadata": {},
   "outputs": [
    {
     "data": {
      "text/plain": [
       "Dict, {\n",
       "'str' : \"Currently operating optical superconducting tunnel junction (STJ) detectors, developed at the European Space Agency (ESA), can simultaneously measure the wavelength ((Delta) (gamma) equals 50 nm at 500 nm) and arrival time (to within approximately 5 microsecond(s) ) of individual photons in the range 310 to 720 nm with an efficiency of approximately 70%, and with count rates of the order of 5000 photons s<SUP>-1</SUP> per junction. A number of STJs placed in an array format generates 4-D data: photon arrival time, energy, and array element (X,Y). Such STJ cameras are ideally suited for, e.g., high-time-resolution spectrally resolved monitoring of variable sources or low- resolution spectroscopy of faint extragalactic objects. The reduction of STJ data involves detector efficiency correction, atmospheric extinction correction, sky background subtraction, and, unlike that of data from CCD-based systems, a more complex energy calibration, barycentric arrival time correction, energy range selection, and time binning; these steps are, in many respects, analogous to procedures followed in high-energy astrophysics. We discuss these calibration steps in detail using a representative observation of the cataclysmic variable UZ Fornacis; these data were obtained with ESA's S-Cam2 6 X 6-pixel device. We furthermore discuss issues related to telescope pointing and guiding, differential atmospheric refraction, and atmosphere-induced image motion and image smearing (`seeing') in the focal plane. We also present a simple and effective recipe for extracting the evolution of atmospheric seeing with time from any science exposure and discuss a number of caveats in the interpretation of STJ-based time-binned data, such as light curves and hardness ratio plots.\",\n",
       "'nltk' : Dict, {\n",
       "'all' : [[['Currently', 'RB'], ['operating', 'VBG'], ['optical', 'JJ'], ['superconducting', 'NN'], ['tunnel', 'NN'], ['junction', 'NN'], ['(', '('], ['STJ', 'NNP'], [')', ')'], ['detectors', 'NNS'], [',', ','], ['developed', 'VBN'], ['at', 'IN'], ['the', 'DT'], ['European', 'JJ'], ['Space', 'NNP'], ['Agency', 'NNP'], ['(', '('], ['ESA', 'NNP'], [')', ')'], [',', ','], ['can', 'MD'], ['simultaneously', 'RB'], ['measure', 'VB'], ['the', 'DT'], ['wavelength', 'NN'], ['(', '('], ['(', '('], ['Delta', 'NNP'], [')', ')'], ['(', '('], ['gamma', 'NN'], [')', ')'], ['equals', 'VBZ'], ['50', 'CD'], ['nm', 'NN'], ['at', 'IN'], ['500', 'CD'], ['nm', 'NN'], [')', ')'], ['and', 'CC'], ['arrival', 'JJ'], ['time', 'NN'], ['(', '('], ['to', 'TO'], ['within', 'IN'], ['approximately', 'RB'], ['5', 'CD'], ['microsecond', 'NN'], ['(', '('], ['s', 'PRP'], [')', ')'], [')', ')'], ['of', 'IN'], ['individual', 'JJ'], ['photons', 'NNS'], ['in', 'IN'], ['the', 'DT'], ['range', 'NN'], ['310', 'CD'], ['to', 'TO'], ['720', 'CD'], ['nm', 'NN'], ['with', 'IN'], ['an', 'DT'], ['efficiency', 'NN'], ['of', 'IN'], ['approximately', 'RB'], ['70', 'CD'], ['%', 'NN'], [',', ','], ['and', 'CC'], ['with', 'IN'], ['count', 'NN'], ['rates', 'NNS'], ['of', 'IN'], ['the', 'DT'], ['order', 'NN'], ['of', 'IN'], ['5000', 'CD'], ['photons', 'NNS'], ['s', 'VBP'], ['<', 'JJ'], ['SUP', 'NNP'], ['>', 'NNP'], ['-1', 'NNP'], ['<', 'NNP'], ['/SUP', 'NNP'], ['>', 'NNP'], ['per', 'IN'], ['junction', 'NN'], ['.', '.']], [['A', 'DT'], ['number', 'NN'], ['of', 'IN'], ['STJs', 'NNP'], ['placed', 'VBD'], ['in', 'IN'], ['an', 'DT'], ['array', 'NN'], ['format', 'NN'], ['generates', 'VBZ'], ['4-D', 'JJ'], ['data', 'NNS'], [':', ':'], ['photon', 'NN'], ['arrival', 'NN'], ['time', 'NN'], [',', ','], ['energy', 'NN'], [',', ','], ['and', 'CC'], ['array', 'JJ'], ['element', 'NN'], ['(', '('], ['X', 'NNP'], [',', ','], ['Y', 'NNP'], [')', ')'], ['.', '.']], [['Such', 'JJ'], ['STJ', 'NNP'], ['cameras', 'NNS'], ['are', 'VBP'], ['ideally', 'RB'], ['suited', 'VBN'], ['for', 'IN'], [',', ','], ['e.g.', 'NN'], [',', ','], ['high-time-resolution', 'NN'], ['spectrally', 'RB'], ['resolved', 'VBD'], ['monitoring', 'NN'], ['of', 'IN'], ['variable', 'JJ'], ['sources', 'NNS'], ['or', 'CC'], ['low-', 'JJ'], ['resolution', 'NN'], ['spectroscopy', 'NN'], ['of', 'IN'], ['faint', 'NN'], ['extragalactic', 'JJ'], ['objects', 'NNS'], ['.', '.']], [['The', 'DT'], ['reduction', 'NN'], ['of', 'IN'], ['STJ', 'NNP'], ['data', 'NNS'], ['involves', 'VBZ'], ['detector', 'NN'], ['efficiency', 'NN'], ['correction', 'NN'], [',', ','], ['atmospheric', 'JJ'], ['extinction', 'NN'], ['correction', 'NN'], [',', ','], ['sky', 'NN'], ['background', 'NN'], ['subtraction', 'NN'], [',', ','], ['and', 'CC'], [',', ','], ['unlike', 'IN'], ['that', 'DT'], ['of', 'IN'], ['data', 'NNS'], ['from', 'IN'], ['CCD-based', 'JJ'], ['systems', 'NNS'], [',', ','], ['a', 'DT'], ['more', 'RBR'], ['complex', 'JJ'], ['energy', 'NN'], ['calibration', 'NN'], [',', ','], ['barycentric', 'JJ'], ['arrival', 'NN'], ['time', 'NN'], ['correction', 'NN'], [',', ','], ['energy', 'NN'], ['range', 'NN'], ['selection', 'NN'], [',', ','], ['and', 'CC'], ['time', 'NN'], ['binning', 'NN'], [';', ':'], ['these', 'DT'], ['steps', 'NNS'], ['are', 'VBP'], [',', ','], ['in', 'IN'], ['many', 'JJ'], ['respects', 'NNS'], [',', ','], ['analogous', 'JJ'], ['to', 'TO'], ['procedures', 'NNS'], ['followed', 'VBN'], ['in', 'IN'], ['high-energy', 'JJ'], ['astrophysics', 'NNS'], ['.', '.']], [['We', 'PRP'], ['discuss', 'VBP'], ['these', 'DT'], ['calibration', 'NN'], ['steps', 'NNS'], ['in', 'IN'], ['detail', 'NN'], ['using', 'VBG'], ['a', 'DT'], ['representative', 'JJ'], ['observation', 'NN'], ['of', 'IN'], ['the', 'DT'], ['cataclysmic', 'JJ'], ['variable', 'JJ'], ['UZ', 'NNP'], ['Fornacis', 'NNP'], [';', ':'], ['these', 'DT'], ['data', 'NNS'], ['were', 'VBD'], ['obtained', 'VBN'], ['with', 'IN'], ['ESA', 'NNP'], [\"'s\", 'POS'], ['S-Cam2', 'JJ'], ['6', 'CD'], ['X', 'JJ'], ['6-pixel', 'JJ'], ['device', 'NN'], ['.', '.']], [['We', 'PRP'], ['furthermore', 'VBP'], ['discuss', 'JJ'], ['issues', 'NNS'], ['related', 'VBN'], ['to', 'TO'], ['telescope', 'VB'], ['pointing', 'VBG'], ['and', 'CC'], ['guiding', 'VBG'], [',', ','], ['differential', 'JJ'], ['atmospheric', 'JJ'], ['refraction', 'NN'], [',', ','], ['and', 'CC'], ['atmosphere-induced', 'JJ'], ['image', 'NN'], ['motion', 'NN'], ['and', 'CC'], ['image', 'NN'], ['smearing', 'NN'], ['(', '('], ['`', '``'], ['seeing', 'VBG'], [\"'\", \"''\"], [')', ')'], ['in', 'IN'], ['the', 'DT'], ['focal', 'JJ'], ['plane', 'NN'], ['.', '.']], [['We', 'PRP'], ['also', 'RB'], ['present', 'VBD'], ['a', 'DT'], ['simple', 'JJ'], ['and', 'CC'], ['effective', 'JJ'], ['recipe', 'NN'], ['for', 'IN'], ['extracting', 'VBG'], ['the', 'DT'], ['evolution', 'NN'], ['of', 'IN'], ['atmospheric', 'JJ'], ['seeing', 'VBG'], ['with', 'IN'], ['time', 'NN'], ['from', 'IN'], ['any', 'DT'], ['science', 'NN'], ['exposure', 'NN'], ['and', 'CC'], ['discuss', 'VB'], ['a', 'DT'], ['number', 'NN'], ['of', 'IN'], ['caveats', 'NNS'], ['in', 'IN'], ['the', 'DT'], ['interpretation', 'NN'], ['of', 'IN'], ['STJ-based', 'JJ'], ['time-binned', 'JJ'], ['data', 'NNS'], [',', ','], ['such', 'JJ'], ['as', 'IN'], ['light', 'JJ'], ['curves', 'NNS'], ['and', 'CC'], ['hardness', 'NN'], ['ratio', 'NN'], ['plots', 'NNS'], ['.', '.']]],\n",
       "'primary' : [['Currently', 'operating', 'optical', 'superconducting', 'tunnel', 'junction', 'STJ', 'detectors', 'developed', 'European', 'Space', 'Agency', 'ESA', 'simultaneously', 'measure', 'wavelength', 'Delta', 'gamma', 'equals', 'nm', 'nm', 'arrival', 'time', 'approximately', 'microsecond', 'individual', 'photons', 'range', 'nm', 'efficiency', 'approximately', '%', 'count', 'rates', 'order', 'photons', 's', '<', 'SUP', '>', '-1', '<', '/SUP', '>', 'junction'], ['number', 'STJs', 'placed', 'array', 'format', 'generates', '4-D', 'data', 'photon', 'arrival', 'time', 'energy', 'array', 'element', 'X', 'Y'], ['Such', 'STJ', 'cameras', 'are', 'ideally', 'suited', 'e.g.', 'high-time-resolution', 'spectrally', 'resolved', 'monitoring', 'variable', 'sources', 'low-', 'resolution', 'spectroscopy', 'faint', 'extragalactic', 'objects'], ['reduction', 'STJ', 'data', 'involves', 'detector', 'efficiency', 'correction', 'atmospheric', 'extinction', 'correction', 'sky', 'background', 'subtraction', 'data', 'CCD-based', 'systems', 'more', 'complex', 'energy', 'calibration', 'barycentric', 'arrival', 'time', 'correction', 'energy', 'range', 'selection', 'time', 'binning', 'steps', 'are', 'many', 'respects', 'analogous', 'procedures', 'followed', 'high-energy', 'astrophysics'], ['discuss', 'calibration', 'steps', 'detail', 'using', 'representative', 'observation', 'cataclysmic', 'variable', 'UZ', 'Fornacis', 'data', 'were', 'obtained', 'ESA', 'S-Cam2', 'X', '6-pixel', 'device'], ['furthermore', 'discuss', 'issues', 'related', 'telescope', 'pointing', 'guiding', 'differential', 'atmospheric', 'refraction', 'atmosphere-induced', 'image', 'motion', 'image', 'smearing', 'seeing', 'focal', 'plane'], ['also', 'present', 'simple', 'effective', 'recipe', 'extracting', 'evolution', 'atmospheric', 'seeing', 'time', 'science', 'exposure', 'discuss', 'number', 'caveats', 'interpretation', 'STJ-based', 'time-binned', 'data', 'such', 'light', 'curves', 'hardness', 'ratio', 'plots']],\n",
       "'secondary' : [['(', ')', ',', 'at', 'the', '(', ')', ',', 'can', 'the', '(', '(', ')', '(', ')', '50', 'at', '500', ')', 'and', '(', 'to', 'within', '5', '(', 's', ')', ')', 'of', 'in', 'the', '310', 'to', '720', 'with', 'an', 'of', '70', ',', 'and', 'with', 'of', 'the', 'of', '5000', 'per', '.'], ['A', 'of', 'in', 'an', ':', ',', ',', 'and', '(', ',', ')', '.'], ['for', ',', ',', 'of', 'or', 'of', '.'], ['The', 'of', ',', ',', ',', 'and', ',', 'unlike', 'that', 'of', 'from', ',', 'a', ',', ',', ',', 'and', ';', 'these', ',', 'in', ',', 'to', 'in', '.'], ['We', 'these', 'in', 'a', 'of', 'the', ';', 'these', 'with', \"'s\", '6', '.'], ['We', 'to', 'and', ',', ',', 'and', 'and', '(', '`', \"'\", ')', 'in', 'the', '.'], ['We', 'a', 'and', 'for', 'the', 'of', 'with', 'from', 'any', 'and', 'a', 'of', 'in', 'the', 'of', ',', 'as', 'and', '.']],\n",
       "'primary_stemmed' : [['agenc', 'develop', '<', 'photon', 'measur', 'simultan', '-1', 'rate', 'superconduct', 'nm', 'gamma', 'time', 'equal', 'count', '>', 'optic', 'european', 's', 'oper', 'tunnel', '/sup', 'delta', 'sup', 'microsecond', 'order', 'wavelength', 'arriv', '%', 'stj', 'effici', 'space', 'detector', 'individu', 'rang', 'junction', 'approxim', 'current', 'esa'], ['array', 'x', 'number', 'time', 'place', 'format', 'generat', 'data', 'photon', 'arriv', 'y', 'element', 'stjs', 'energi', '4-d'], ['spectroscopi', 'faint', 'resolv', 'ideal', 'sourc', 'high-time-resolut', 'monitor', 'camera', 'low-', 'resolut', 'e.g .', 'object', 'variabl', 'such', 'extragalact', 'stj', 'are', 'spectral', 'suit'], ['sky', 'bin', 'follow', 'step', 'barycentr', 'procedur', 'high-energi', 'involv', 'subtract', 'respect', 'reduct', 'mani', 'time', 'atmospher', 'data', 'select', 'background', 'complex', 'arriv', 'astrophys', 'extinct', 'calibr', 'more', 'ccd-base', 'stj', 'effici', 'analog', 'detector', 'rang', 'correct', 'energi', 'are', 'system'], ['step', 'fornaci', 'uz', 'obtain', 'cataclysm', 'detail', 'data', 'observ', '6-pixel', 'discuss', 's-cam2', 'x', 'repres', 'were', 'variabl', 'calibr', 'use', 'devic', 'esa'], ['differenti', 'discuss', 'focal', 'plane', 'smear', 'see', 'furthermor', 'issu', 'point', 'imag', 'motion', 'atmospher', 'refract', 'atmosphere-induc', 'telescop', 'guid', 'relat'], ['stj-base', 'exposur', 'scienc', 'recip', 'also', 'number', 'plot', 'time', 'atmospher', 'data', 'extract', 'light', 'time-bin', 'present', 'ratio', 'discuss', 'curv', 'evolut', 'caveat', 'such', 'interpret', 'see', 'hard', 'effect', 'simpl']],\n",
       "'uncategorized' : [],\n",
       "}\n",
       ",\n",
       "}"
      ]
     },
     "execution_count": 39,
     "metadata": {},
     "output_type": "execute_result"
    }
   ],
   "source": [
    "cc_atlas[bibcodes[0]].abstract"
   ]
  },
  {
   "cell_type": "code",
   "execution_count": 40,
   "metadata": {},
   "outputs": [
    {
     "data": {
      "text/plain": [
       "sciterra.publication.Publication:2002OptEn..41.1158D"
      ]
     },
     "execution_count": 40,
     "metadata": {},
     "output_type": "execute_result"
    }
   ],
   "source": [
    "# define how to convert a cc publication to a sciterra publication.\n",
    "# copy paste and edit the ads librarian convert function\n",
    "\n",
    "from datetime import date, datetime\n",
    "\n",
    "def convert_cc_publication(cc_publication, *args, **kwargs) -> sciterra.mapping.publication.Publication:\n",
    "    \"\"\"Convert a ADS Article object to a sciterra.publication.Publication.\"\"\"\n",
    "    if cc_publication is None:\n",
    "        return\n",
    "\n",
    "    # to be consistent with identifiers (e.g., to avoid storing the same publication twice), we always use the bibcode.\n",
    "    identifier = cc_publication.bibcode\n",
    "\n",
    "    def process_date(date_str: str) -> str:\n",
    "        # sometimes there is extra data\n",
    "        date_str = date_str[:10]  # e.g. yyyy-mm-dd\n",
    "        # sometimes ads has 00 for month or day\n",
    "        if date_str[-2:] == \"00\":\n",
    "            date_str[-2:] = \"01\"\n",
    "        if date_str[-5:-3] == \"00\":\n",
    "            date_str[-5:-3] = \"01\"\n",
    "        date_ = datetime.strptime(date_str, \"%Y-%m-%d\")\n",
    "        return date_\n",
    "\n",
    "    # Parse date from datetime or year\n",
    "    if hasattr(cc_publication, \"entry_date\"):\n",
    "        publication_date = process_date(cc_publication.entry_date)\n",
    "    elif hasattr(cc_publication, \"pubdate\"):\n",
    "        publication_date = process_date(cc_publication.pubdate)\n",
    "    elif hasattr(cc_publication, \"year\"):\n",
    "        publication_date = date(cc_publication.year, 1, 1)\n",
    "    else:\n",
    "        publication_date = None\n",
    "\n",
    "    # Process citation data\n",
    "    citations = cc_publication.citations\n",
    "    references = cc_publication.references\n",
    "\n",
    "    citation_count = len(citations) if citations is not None else None\n",
    "\n",
    "    data = {\n",
    "        # primary fields\n",
    "        \"identifier\": identifier,\n",
    "        \"abstract\": cc_publication.abstract[\"str\"],\n",
    "        \"publication_date\": publication_date,\n",
    "        \"citations\": citations,\n",
    "        \"references\": references,\n",
    "        \"citation_count\": citation_count,\n",
    "    }\n",
    "    data = {k: v for k, v in data.items() if v is not None}\n",
    "\n",
    "    return sciterra.mapping.publication.Publication(data)\n",
    "\n",
    "convert_cc_publication(cc_atlas[bibcodes[0]])"
   ]
  },
  {
   "cell_type": "code",
   "execution_count": 41,
   "metadata": {},
   "outputs": [
    {
     "data": {
      "text/plain": [
       "34401"
      ]
     },
     "execution_count": 41,
     "metadata": {},
     "output_type": "execute_result"
    }
   ],
   "source": [
    "sciterra_publications = [convert_cc_publication(\n",
    "    cc_atlas[key]\n",
    ") for key in cc_atlas.data]\n",
    "sciterra_publications = [pub for pub in sciterra_publications if pub is not None]\n",
    "len(sciterra_publications)"
   ]
  },
  {
   "cell_type": "code",
   "execution_count": 42,
   "metadata": {},
   "outputs": [
    {
     "data": {
      "text/plain": [
       "34401"
      ]
     },
     "execution_count": 42,
     "metadata": {},
     "output_type": "execute_result"
    }
   ],
   "source": [
    "# construct sciterra atlas\n",
    "sciterra_atlas = sciterra.Atlas(publications=sciterra_publications)\n",
    "len(sciterra_atlas)"
   ]
  },
  {
   "attachments": {},
   "cell_type": "markdown",
   "metadata": {},
   "source": [
    "## Project publications using SciBERT"
   ]
  },
  {
   "cell_type": "code",
   "execution_count": 43,
   "metadata": {},
   "outputs": [
    {
     "name": "stdout",
     "output_type": "stream",
     "text": [
      "Using device: mps.\n"
     ]
    }
   ],
   "source": [
    "# project with scibert\n",
    "from sciterra.vectorization import SciBERTVectorizer\n",
    "\n",
    "sciterra_crt = sciterra.Cartographer(vectorizer=SciBERTVectorizer(device=\"mps\"))"
   ]
  },
  {
   "cell_type": "code",
   "execution_count": 44,
   "metadata": {},
   "outputs": [
    {
     "name": "stderr",
     "output_type": "stream",
     "text": [
      "embedding documents: 34432it [2:21:22,  4.06it/s]                             \n"
     ]
    }
   ],
   "source": [
    "# n.b.: for 24,448 pubs, takes 2h 28 mins\n",
    "sciterra_atlas = sciterra_crt.project(sciterra_atlas)"
   ]
  },
  {
   "attachments": {},
   "cell_type": "markdown",
   "metadata": {},
   "source": [
    "### Save"
   ]
  },
  {
   "cell_type": "code",
   "execution_count": 46,
   "metadata": {},
   "outputs": [],
   "source": [
    "sciterra_atlas.save(sciterra_atlas_dir)"
   ]
  }
 ],
 "metadata": {
  "kernelspec": {
   "display_name": "cc-sciterra",
   "language": "python",
   "name": "python3"
  },
  "language_info": {
   "codemirror_mode": {
    "name": "ipython",
    "version": 3
   },
   "file_extension": ".py",
   "mimetype": "text/x-python",
   "name": "python",
   "nbconvert_exporter": "python",
   "pygments_lexer": "ipython3",
   "version": "3.11.3"
  },
  "orig_nbformat": 4
 },
 "nbformat": 4,
 "nbformat_minor": 2
}
