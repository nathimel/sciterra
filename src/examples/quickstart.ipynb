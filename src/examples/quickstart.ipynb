{
 "cells": [
  {
   "cell_type": "markdown",
   "metadata": {},
   "source": [
    "# Quickstart\n",
    "\n",
    "TODO: Add accompanying markdown."
   ]
  },
  {
   "cell_type": "code",
   "execution_count": null,
   "metadata": {},
   "outputs": [],
   "source": [
    "# Create a cartographer with a Semantic Scholar librarian and a SciBERT vectorizer\n",
    "from sciterra import Cartographer\n",
    "from sciterra.librarians import SemanticScholarLibrarian # or ADSLibrarian\n",
    "from sciterra.vectorization import SciBERTVectorizer # among others\n",
    "\n",
    "crt = Cartographer(\n",
    "    librarian=SemanticScholarLibrarian(),\n",
    "    vectorizer=SciBERTVectorizer(),\n",
    ")"
   ]
  },
  {
   "cell_type": "code",
   "execution_count": null,
   "metadata": {},
   "outputs": [],
   "source": [
    "# Use the cartographer and a bib file to create an atlas\n",
    "atl = crt.bibtex_to_atlas('./example.bib')"
   ]
  },
  {
   "cell_type": "code",
   "execution_count": null,
   "metadata": {},
   "outputs": [],
   "source": [
    "# Get abstracts\n",
    "docs = [atl[identifier].abstract for identifier in atl.ids]\n",
    "\n",
    "# Embed abstracts\n",
    "result = crt.vectorizer.embed_documents(docs)\n",
    "embeddings = result[\"embeddings\"]\n",
    "\n",
    "# depending on the vectorizer, sometimes not all embeddings can be obtained due to out-of-vocab issues\n",
    "success_indices = result[\"success_indices\"] # shape `(len(embeddings),)`\n",
    "fail_indices = result[\"fail_indices\"] # shape `(len(docs) - len(embeddings))`\n",
    "\n",
    "success_indices, fail_indices"
   ]
  },
  {
   "cell_type": "code",
   "execution_count": null,
   "metadata": {},
   "outputs": [],
   "source": [
    "from sciterra.mapping.tracing import iterate_expand\n",
    "\n",
    "# Assuming the initial atlas contains just one publication\n",
    "(atl.center, ) = atl.publications.keys()\n",
    "# build out an atlas to contain 10,000 publications, with increasing dissimilarity to the initial publication, saving progress in binary files to the directory named \"atlas\".\n",
    "iterate_expand(\n",
    "    atl=atl,\n",
    "    crt=crt,\n",
    "    atlas_dir=\"atlas\",\n",
    "    target_size=10000,\n",
    "    center=atl.center,\n",
    ")"
   ]
  },
  {
   "cell_type": "code",
   "execution_count": null,
   "metadata": {},
   "outputs": [],
   "source": []
  }
 ],
 "metadata": {
  "kernelspec": {
   "display_name": "llm",
   "language": "python",
   "name": "python3"
  },
  "language_info": {
   "codemirror_mode": {
    "name": "ipython",
    "version": 3
   },
   "file_extension": ".py",
   "mimetype": "text/x-python",
   "name": "python",
   "nbconvert_exporter": "python",
   "pygments_lexer": "ipython3",
   "version": "3.12.2"
  }
 },
 "nbformat": 4,
 "nbformat_minor": 2
}
