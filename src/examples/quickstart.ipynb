{
 "cells": [
  {
   "cell_type": "code",
   "execution_count": 8,
   "metadata": {},
   "outputs": [
    {
     "name": "stdout",
     "output_type": "stream",
     "text": [
      "Using device: cpu.\n"
     ]
    }
   ],
   "source": [
    "# Create a cartographer with a Semantic Scholar librarian and a SciBERT vectorizer\n",
    "from sciterra import Cartographer\n",
    "from sciterra.librarians import SemanticScholarLibrarian # or ADSLibrarian\n",
    "from sciterra.vectorization import SciBERTVectorizer # among others\n",
    "\n",
    "crt = Cartographer(\n",
    "    librarian=SemanticScholarLibrarian(),\n",
    "    vectorizer=SciBERTVectorizer(),\n",
    ")"
   ]
  },
  {
   "cell_type": "code",
   "execution_count": 3,
   "metadata": {},
   "outputs": [],
   "source": [
    "# Use the cartographer and a bib file to create an atlas\n",
    "atl = crt.bibtex_to_atlas('./example.bib')"
   ]
  },
  {
   "cell_type": "code",
   "execution_count": 10,
   "metadata": {},
   "outputs": [
    {
     "name": "stderr",
     "output_type": "stream",
     "text": [
      "embedding documents: 0it [00:00, ?it/s]\n"
     ]
    }
   ],
   "source": [
    "# Get abstracts\n",
    "docs = [atl[identifier].abstract for identifier in atl.ids]\n",
    "\n",
    "# Embed abstracts\n",
    "result = crt.vectorizer.embed_documents(docs)\n",
    "embeddings = result[\"embeddings\"]\n",
    "\n",
    "# depending on the vectorizer, sometimes not all embeddings can be obtained due to out-of-vocab issues\n",
    "success_indices = result[\"success_indices\"] # shape `(len(embeddings),)`\n",
    "fail_indices = result[\"fail_indices\"] # shape `(len(docs) - len(embeddings))`"
   ]
  },
  {
   "cell_type": "code",
   "execution_count": 12,
   "metadata": {},
   "outputs": [
    {
     "data": {
      "text/plain": [
       "(array([], dtype=int64), array([], dtype=int64))"
      ]
     },
     "execution_count": 12,
     "metadata": {},
     "output_type": "execute_result"
    }
   ],
   "source": [
    "success_indices, fail_indices"
   ]
  },
  {
   "cell_type": "code",
   "execution_count": null,
   "metadata": {},
   "outputs": [],
   "source": []
  },
  {
   "cell_type": "code",
   "execution_count": null,
   "metadata": {},
   "outputs": [],
   "source": []
  }
 ],
 "metadata": {
  "kernelspec": {
   "display_name": "llm",
   "language": "python",
   "name": "python3"
  },
  "language_info": {
   "codemirror_mode": {
    "name": "ipython",
    "version": 3
   },
   "file_extension": ".py",
   "mimetype": "text/x-python",
   "name": "python",
   "nbconvert_exporter": "python",
   "pygments_lexer": "ipython3",
   "version": "3.12.2"
  }
 },
 "nbformat": 4,
 "nbformat_minor": 2
}
